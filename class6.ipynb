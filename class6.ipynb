{
 "cells": [
  {
   "cell_type": "code",
   "execution_count": null,
   "source": [
    "%matplotlib qt\r\n",
    "import numpy as np\r\n",
    "import matplotlib.pyplot as plt\r\n",
    "def fid(m0, T2, f, t):\r\n",
    "    return m0 * np.exp(-t / T2) * np.exp(1j *2 * np.pi * f * t)\r\n",
    "\r\n",
    "t = np.linspace(0,10,200)\r\n",
    "f = fid(1,2,3,t)\r\n",
    "plt.plot(f.real, f.imag)\r\n",
    "plt.plot(t, f.real)\r\n",
    "\r\n"
   ],
   "outputs": [],
   "metadata": {}
  }
 ],
 "metadata": {
  "orig_nbformat": 4,
  "language_info": {
   "name": "python"
  }
 },
 "nbformat": 4,
 "nbformat_minor": 2
}