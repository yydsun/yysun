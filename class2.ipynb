{
 "cells": [
  {
   "cell_type": "code",
   "execution_count": 1,
   "source": [
    "my_list = [0,1,2,3,4]\r\n",
    "my_list[0]\r\n",
    "my_list[1] = 100\r\n",
    "print(my_list)"
   ],
   "outputs": [
    {
     "output_type": "stream",
     "name": "stdout",
     "text": [
      "[0, 100, 2, 3, 4]\n"
     ]
    }
   ],
   "metadata": {}
  },
  {
   "cell_type": "code",
   "execution_count": 3,
   "source": [
    "my_list[4] = [1,2,3]\r\n",
    "my_list"
   ],
   "outputs": [
    {
     "output_type": "execute_result",
     "data": {
      "text/plain": [
       "[0, 100, 2, 3, [1, 2, 3]]"
      ]
     },
     "metadata": {},
     "execution_count": 3
    }
   ],
   "metadata": {}
  },
  {
   "cell_type": "code",
   "execution_count": 4,
   "source": [
    "my_list[4][2]"
   ],
   "outputs": [
    {
     "output_type": "execute_result",
     "data": {
      "text/plain": [
       "3"
      ]
     },
     "metadata": {},
     "execution_count": 4
    }
   ],
   "metadata": {}
  },
  {
   "cell_type": "code",
   "execution_count": 5,
   "source": [
    "my_list[1:5]\r\n",
    "#左闭右开区间"
   ],
   "outputs": [
    {
     "output_type": "execute_result",
     "data": {
      "text/plain": [
       "[100, 2, 3, [1, 2, 3]]"
      ]
     },
     "metadata": {},
     "execution_count": 5
    }
   ],
   "metadata": {}
  },
  {
   "cell_type": "code",
   "execution_count": 8,
   "source": [
    "my_list[0:5:2]\r\n",
    "my_list[6:0:-2]"
   ],
   "outputs": [
    {
     "output_type": "execute_result",
     "data": {
      "text/plain": [
       "[[1, 2, 3], 2]"
      ]
     },
     "metadata": {},
     "execution_count": 8
    }
   ],
   "metadata": {}
  },
  {
   "cell_type": "code",
   "execution_count": 15,
   "source": [
    "my_list[5::-2]"
   ],
   "outputs": [
    {
     "output_type": "execute_result",
     "data": {
      "text/plain": [
       "[[1, 2, 3], 2, 0]"
      ]
     },
     "metadata": {},
     "execution_count": 15
    }
   ],
   "metadata": {}
  },
  {
   "cell_type": "code",
   "execution_count": 16,
   "source": [
    "[1]*5"
   ],
   "outputs": [
    {
     "output_type": "execute_result",
     "data": {
      "text/plain": [
       "[1, 1, 1, 1, 1]"
      ]
     },
     "metadata": {},
     "execution_count": 16
    }
   ],
   "metadata": {}
  },
  {
   "cell_type": "code",
   "execution_count": 18,
   "source": [
    "my_list = []"
   ],
   "outputs": [],
   "metadata": {}
  },
  {
   "cell_type": "code",
   "execution_count": null,
   "source": [
    "my_list.append(1)"
   ],
   "outputs": [],
   "metadata": {}
  },
  {
   "cell_type": "code",
   "execution_count": 20,
   "source": [
    "my_list = list(range(1,10))\r\n",
    "my_list"
   ],
   "outputs": [
    {
     "output_type": "execute_result",
     "data": {
      "text/plain": [
       "[1, 2, 3, 4, 5, 6, 7, 8, 9]"
      ]
     },
     "metadata": {},
     "execution_count": 20
    }
   ],
   "metadata": {}
  },
  {
   "cell_type": "code",
   "execution_count": 22,
   "source": [
    "my_list = list('hello')\r\n",
    "my_list"
   ],
   "outputs": [
    {
     "output_type": "execute_result",
     "data": {
      "text/plain": [
       "['h', 'e', 'l', 'l', 'o']"
      ]
     },
     "metadata": {},
     "execution_count": 22
    }
   ],
   "metadata": {}
  },
  {
   "cell_type": "code",
   "execution_count": 23,
   "source": [
    "4 in my_list"
   ],
   "outputs": [
    {
     "output_type": "execute_result",
     "data": {
      "text/plain": [
       "False"
      ]
     },
     "metadata": {},
     "execution_count": 23
    }
   ],
   "metadata": {}
  },
  {
   "cell_type": "code",
   "execution_count": 24,
   "source": [
    "ch = input('please input a char:')\r\n",
    "if ch in 'aeiou':\r\n",
    "    print('It is a vowel.')\r\n",
    "else:\r\n",
    "    print('It is not a vowel')"
   ],
   "outputs": [
    {
     "output_type": "stream",
     "name": "stdout",
     "text": [
      "It is a vowel.\n"
     ]
    }
   ],
   "metadata": {}
  },
  {
   "cell_type": "code",
   "execution_count": 28,
   "source": [
    "for i in range(1,10):\r\n",
    "    print(f'{i}^3 = {i ** 3}',end = ' ; ')"
   ],
   "outputs": [
    {
     "output_type": "stream",
     "name": "stdout",
     "text": [
      "1^3 = 1 ; 2^3 = 8 ; 3^3 = 27 ; 4^3 = 64 ; 5^3 = 125 ; 6^3 = 216 ; 7^3 = 343 ; 8^3 = 512 ; 9^3 = 729 ; "
     ]
    }
   ],
   "metadata": {}
  },
  {
   "cell_type": "code",
   "execution_count": 29,
   "source": [
    "for i in range(1, 10):\r\n",
    "    print(' ' * (9 - i) + '*' * (2 * i - 1))"
   ],
   "outputs": [
    {
     "output_type": "stream",
     "name": "stdout",
     "text": [
      "        *\n",
      "       ***\n",
      "      *****\n",
      "     *******\n",
      "    *********\n",
      "   ***********\n",
      "  *************\n",
      " ***************\n",
      "*****************\n"
     ]
    }
   ],
   "metadata": {}
  },
  {
   "cell_type": "code",
   "execution_count": 34,
   "source": [
    "for i in range(1,10):\r\n",
    "    for j in range(1,10):\r\n",
    "        if i <= j:\r\n",
    "            print(f'{i}*{j}={i*j}', end = '\\t')\r\n",
    "        else:\r\n",
    "            print('',end = '\\t')\r\n",
    "    print('')\r\n",
    "#制表键不超过9个就自动对齐"
   ],
   "outputs": [
    {
     "output_type": "stream",
     "name": "stdout",
     "text": [
      "1*1=1\t1*2=2\t1*3=3\t1*4=4\t1*5=5\t1*6=6\t1*7=7\t1*8=8\t1*9=9\t\n",
      "\t2*2=4\t2*3=6\t2*4=8\t2*5=10\t2*6=12\t2*7=14\t2*8=16\t2*9=18\t\n",
      "\t\t3*3=9\t3*4=12\t3*5=15\t3*6=18\t3*7=21\t3*8=24\t3*9=27\t\n",
      "\t\t\t4*4=16\t4*5=20\t4*6=24\t4*7=28\t4*8=32\t4*9=36\t\n",
      "\t\t\t\t5*5=25\t5*6=30\t5*7=35\t5*8=40\t5*9=45\t\n",
      "\t\t\t\t\t6*6=36\t6*7=42\t6*8=48\t6*9=54\t\n",
      "\t\t\t\t\t\t7*7=49\t7*8=56\t7*9=63\t\n",
      "\t\t\t\t\t\t\t8*8=64\t8*9=72\t\n",
      "\t\t\t\t\t\t\t\t9*9=81\t\n"
     ]
    }
   ],
   "metadata": {}
  },
  {
   "cell_type": "code",
   "execution_count": 35,
   "source": [
    "my_list = list(range(1,10))\r\n",
    "del my_list[0]\r\n",
    "my_list"
   ],
   "outputs": [
    {
     "output_type": "execute_result",
     "data": {
      "text/plain": [
       "[2, 3, 4, 5, 6, 7, 8, 9]"
      ]
     },
     "metadata": {},
     "execution_count": 35
    }
   ],
   "metadata": {}
  },
  {
   "cell_type": "code",
   "execution_count": 36,
   "source": [
    "my_list.clear()\r\n",
    "my_list"
   ],
   "outputs": [
    {
     "output_type": "execute_result",
     "data": {
      "text/plain": [
       "[]"
      ]
     },
     "metadata": {},
     "execution_count": 36
    }
   ],
   "metadata": {}
  },
  {
   "cell_type": "code",
   "execution_count": 40,
   "source": [
    "a = [1,2,3]\r\n",
    "b = a\r\n",
    "c = a.copy()\r\n",
    "b.clear()\r\n",
    "#一个桶上贴两个标签\r\n",
    "print(a)\r\n",
    "print(b)\r\n",
    "c"
   ],
   "outputs": [
    {
     "output_type": "stream",
     "name": "stdout",
     "text": [
      "[]\n",
      "[]\n"
     ]
    },
    {
     "output_type": "execute_result",
     "data": {
      "text/plain": [
       "[1, 2, 3]"
      ]
     },
     "metadata": {},
     "execution_count": 40
    }
   ],
   "metadata": {}
  },
  {
   "cell_type": "code",
   "execution_count": 54,
   "source": [
    "a = [1,2,3]\r\n",
    "a.append([1,2,3])\r\n",
    "b = a.copy()\r\n",
    "a.append(100)\r\n",
    "print(a)\r\n",
    "print(b)"
   ],
   "outputs": [
    {
     "output_type": "stream",
     "name": "stdout",
     "text": [
      "[1, 2, 3, [1, 2, 3], 100]\n",
      "[1, 2, 3, [1, 2, 3]]\n"
     ]
    }
   ],
   "metadata": {}
  },
  {
   "cell_type": "code",
   "execution_count": 55,
   "source": [
    "a[3][0] = 100\r\n",
    "print(a)\r\n",
    "print(b)\r\n",
    "#copy了标签，与a标签中一样"
   ],
   "outputs": [
    {
     "output_type": "stream",
     "name": "stdout",
     "text": [
      "[1, 2, 3, [100, 2, 3], 100]\n",
      "[1, 2, 3, [100, 2, 3]]\n"
     ]
    }
   ],
   "metadata": {}
  },
  {
   "cell_type": "code",
   "execution_count": 58,
   "source": [
    "from copy import deepcopy\r\n",
    "a = [1,2,3]\r\n",
    "a.append([1,2,3])\r\n",
    "b = deepcopy(a)\r\n",
    "a.append(100)\r\n",
    "print(a)\r\n",
    "print(b)\r\n",
    "a[3][0] = 100\r\n",
    "print(a)\r\n",
    "print(b)\r\n",
    "#copy了内容"
   ],
   "outputs": [
    {
     "output_type": "stream",
     "name": "stdout",
     "text": [
      "[1, 2, 3, [1, 2, 3], 100]\n",
      "[1, 2, 3, [1, 2, 3]]\n",
      "[1, 2, 3, [100, 2, 3], 100]\n",
      "[1, 2, 3, [1, 2, 3]]\n"
     ]
    }
   ],
   "metadata": {}
  },
  {
   "cell_type": "code",
   "execution_count": 63,
   "source": [
    "my_list = list(range(1,10))\r\n",
    "print(len(my_list))\r\n",
    "print(len('hello'))\r\n",
    "print(my_list.count(2))"
   ],
   "outputs": [
    {
     "output_type": "stream",
     "name": "stdout",
     "text": [
      "9\n",
      "5\n",
      "1\n"
     ]
    }
   ],
   "metadata": {}
  },
  {
   "cell_type": "code",
   "execution_count": 66,
   "source": [
    "my_list = [1,2,2,3,3,3,4,4,4,4]\r\n",
    "print(my_list.index(3,4))\r\n",
    "#查找的位置"
   ],
   "outputs": [
    {
     "output_type": "stream",
     "name": "stdout",
     "text": [
      "3\n"
     ]
    }
   ],
   "metadata": {}
  },
  {
   "cell_type": "code",
   "execution_count": 68,
   "source": [
    "if 4 in my_list:\r\n",
    "    print(my_list.index(4))\r\n",
    "my_list.insert(2,100)\r\n",
    "print(my_list)\r\n",
    "#remove只去第一个i"
   ],
   "outputs": [
    {
     "output_type": "stream",
     "name": "stdout",
     "text": [
      "6\n",
      "[1, 2, 100, 2, 3, 3, 3, 4, 4, 4, 4]\n"
     ]
    }
   ],
   "metadata": {}
  },
  {
   "cell_type": "code",
   "execution_count": 69,
   "source": [
    "a = [1,2,3]\r\n",
    "a.append(4)\r\n",
    "a.pop()\r\n",
    "#把最后加入的元素先弹出来\r\n",
    "a"
   ],
   "outputs": [
    {
     "output_type": "execute_result",
     "data": {
      "text/plain": [
       "[1, 2, 3]"
      ]
     },
     "metadata": {},
     "execution_count": 69
    }
   ],
   "metadata": {}
  },
  {
   "cell_type": "code",
   "execution_count": 71,
   "source": [
    "expression = input('Please input an expression:')\r\n",
    "my_stack = list()\r\n",
    "left_quotes = list('[{(')\r\n",
    "right_quotes = list(']})')\r\n",
    "\r\n",
    "not_match = False\r\n",
    "for ch in expression:\r\n",
    "    if ch in left_quotes:\r\n",
    "        my_stack.append(ch)\r\n",
    "    elif ch in right_quotes:\r\n",
    "        if my_stack == []:\r\n",
    "            not_match = True\r\n",
    "            break\r\n",
    "        else:\r\n",
    "            left_ch = my_stack.pop()\r\n",
    "            if left_quotes.index(left_ch) != right_quotes.index(ch):\r\n",
    "                not_match = True\r\n",
    "                break\r\n",
    "if not_match or my_stack != []:\r\n",
    "    print('not match.')\r\n",
    "else:\r\n",
    "    print('match')\r\n",
    "    "
   ],
   "outputs": [
    {
     "output_type": "stream",
     "name": "stdout",
     "text": [
      "match\n"
     ]
    }
   ],
   "metadata": {}
  },
  {
   "cell_type": "code",
   "execution_count": 75,
   "source": [
    "a = list(range(1,4))\r\n",
    "b = list(range(4,7))\r\n",
    "print(a,b)\r\n",
    "a.extend(b)\r\n",
    "print(a)\r\n",
    "a += b\r\n",
    "print(a)"
   ],
   "outputs": [
    {
     "output_type": "stream",
     "name": "stdout",
     "text": [
      "[1, 2, 3] [4, 5, 6]\n",
      "[1, 2, 3, 4, 5, 6]\n",
      "[1, 2, 3, 4, 5, 6, 4, 5, 6]\n"
     ]
    }
   ],
   "metadata": {}
  },
  {
   "cell_type": "code",
   "execution_count": 77,
   "source": [
    "a = list(range(1,5))\r\n",
    "a.reverse\r\n",
    "print(a.reverse())\r\n",
    "print(a)\r\n",
    "#函数不会改变自己时，会有返回值；改变自己无返回值"
   ],
   "outputs": [
    {
     "output_type": "stream",
     "name": "stdout",
     "text": [
      "None\n",
      "[4, 3, 2, 1]\n"
     ]
    }
   ],
   "metadata": {}
  },
  {
   "cell_type": "code",
   "execution_count": 86,
   "source": [
    "import random\r\n",
    "a = list()\r\n",
    "for x in range(1,100):\r\n",
    "    a.append(random.randint(0,100))\r\n",
    "print(a)\r\n",
    "b = a.sort()\r\n",
    "print(b)\r\n",
    "b = sorted(a)\r\n",
    "print(b)\r\n"
   ],
   "outputs": [
    {
     "output_type": "stream",
     "name": "stdout",
     "text": [
      "[4, 37, 6, 35, 78, 87, 24, 23, 80, 93, 9, 34, 10, 15, 42, 24, 23, 0, 88, 49, 16, 99, 96, 24, 94, 46, 73, 3, 17, 59, 74, 57, 47, 53, 58, 37, 95, 89, 68, 75, 28, 71, 3, 64, 79, 48, 0, 11, 69, 82, 29, 46, 78, 36, 8, 33, 68, 32, 87, 97, 39, 100, 74, 20, 53, 8, 14, 15, 90, 99, 5, 66, 69, 68, 97, 60, 71, 3, 40, 97, 85, 19, 10, 42, 86, 53, 94, 76, 88, 88, 34, 81, 30, 22, 12, 4, 14, 96, 72]\n",
      "None\n",
      "[0, 0, 3, 3, 3, 4, 4, 5, 6, 8, 8, 9, 10, 10, 11, 12, 14, 14, 15, 15, 16, 17, 19, 20, 22, 23, 23, 24, 24, 24, 28, 29, 30, 32, 33, 34, 34, 35, 36, 37, 37, 39, 40, 42, 42, 46, 46, 47, 48, 49, 53, 53, 53, 57, 58, 59, 60, 64, 66, 68, 68, 68, 69, 69, 71, 71, 72, 73, 74, 74, 75, 76, 78, 78, 79, 80, 81, 82, 85, 86, 87, 87, 88, 88, 88, 89, 90, 93, 94, 94, 95, 96, 96, 97, 97, 97, 99, 99, 100]\n"
     ]
    }
   ],
   "metadata": {}
  },
  {
   "cell_type": "code",
   "execution_count": 92,
   "source": [
    "%%timeit\r\n",
    "import random\r\n",
    "a = list()\r\n",
    "for x in range(1,100):\r\n",
    "    a.append(i)"
   ],
   "outputs": [
    {
     "output_type": "stream",
     "name": "stdout",
     "text": [
      "4.5 µs ± 23.6 ns per loop (mean ± std. dev. of 7 runs, 100,000 loops each)\n"
     ]
    }
   ],
   "metadata": {}
  },
  {
   "cell_type": "code",
   "execution_count": 93,
   "source": [
    "%%timeit\r\n",
    "a = [None]*100\r\n",
    "for i in range(0,100):\r\n",
    "    a[i] = i"
   ],
   "outputs": [
    {
     "output_type": "stream",
     "name": "stdout",
     "text": [
      "2.58 µs ± 32.9 ns per loop (mean ± std. dev. of 7 runs, 100,000 loops each)\n"
     ]
    }
   ],
   "metadata": {}
  },
  {
   "cell_type": "code",
   "execution_count": 98,
   "source": [
    "month = int(input('Please input month:'))\r\n",
    "day = int(input('Please input day:'))\r\n",
    "\r\n",
    "days_in_month = [31,28,31,30,31,30,31,31,30,31,30,31]\r\n",
    "\r\n",
    "count = sum(days_in_month[0:month-1]) + day\r\n",
    "print(f'This is the {count} day of the year')\r\n",
    "    \r\n"
   ],
   "outputs": [
    {
     "output_type": "stream",
     "name": "stdout",
     "text": [
      "This is the 159 day of the year\n"
     ]
    }
   ],
   "metadata": {}
  },
  {
   "cell_type": "code",
   "execution_count": 5,
   "source": [
    "score = int(input('Please input the score:'))\r\n",
    "grads = 60 * 'D' + 15 * 'C' + 15 * 'B' + 11 * 'A'\r\n",
    "if score<0 or score >100:\r\n",
    "    print('Invalid score')\r\n",
    "else:\r\n",
    "    print(grads[score])"
   ],
   "outputs": [
    {
     "output_type": "stream",
     "name": "stdout",
     "text": [
      "B\n"
     ]
    }
   ],
   "metadata": {}
  }
 ],
 "metadata": {
  "orig_nbformat": 4,
  "language_info": {
   "name": "python",
   "version": "3.9.12",
   "mimetype": "text/x-python",
   "codemirror_mode": {
    "name": "ipython",
    "version": 3
   },
   "pygments_lexer": "ipython3",
   "nbconvert_exporter": "python",
   "file_extension": ".py"
  },
  "kernelspec": {
   "name": "python3",
   "display_name": "Python 3.9.12 64-bit ('base': conda)"
  },
  "interpreter": {
   "hash": "b3ba2566441a7c06988d0923437866b63cedc61552a5af99d1f4fb67d367b25f"
  }
 },
 "nbformat": 4,
 "nbformat_minor": 2
}