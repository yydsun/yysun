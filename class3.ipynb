{
 "cells": [
  {
   "cell_type": "code",
   "execution_count": null,
   "source": [
    "import numpy as np\r\n",
    "import SimpleITK as sitk\r\n",
    "import matplotlib.pyplot as plt\r\n",
    "\r\n",
    "image = sitk.ReadImage(r'C:\\Complaire\\Data\\yysun\\class\\QSM.nii')\r\n",
    "image_data = sitk.GetArrayFromImage(image)\r\n",
    "plt.imshow(image_data[32,...], cmap = 'gray', vmin = -100, vmax = 300)\r\n",
    "#画数组中的32层，颜色选择映射方式，图像的数据范围"
   ],
   "outputs": [],
   "metadata": {}
  }
 ],
 "metadata": {
  "orig_nbformat": 4,
  "language_info": {
   "name": "python"
  }
 },
 "nbformat": 4,
 "nbformat_minor": 2
}